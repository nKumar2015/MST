{
 "cells": [
  {
   "cell_type": "code",
   "execution_count": 4,
   "id": "d49adc97",
   "metadata": {},
   "outputs": [],
   "source": [
    "import numpy as np\n",
    "import pandas as pd\n",
    "import os"
   ]
  },
  {
   "cell_type": "code",
   "execution_count": 5,
   "id": "b2dc20c9",
   "metadata": {},
   "outputs": [],
   "source": [
    "import csv\n",
    "\n",
    "\n",
    "metadata = \"./data/fma_metadata/raw_tracks.csv\"\n",
    "track_dir = \"./data/fma_small/\"\n",
    "\n",
    "df = pd.read_csv(metadata, low_memory=False)\n",
    "\n",
    "track_ids = df[\"track_id\"]\n",
    "genres = df[\"track_genres\"]\n",
    "\n",
    "track_folders = np.array(os.listdir(track_dir))\n",
    "track_folders.sort()\n",
    "track_folders = track_folders[0:-2]\n",
    "\n",
    "tracks = []\n",
    "\n",
    "for folder in track_folders:\n",
    "    tracks.extend(os.listdir(track_dir+folder))\n",
    "    \n",
    "for i, track in enumerate(tracks):\n",
    "    tracks[i] = track[:-4]\n",
    "    \n",
    "tracks = np.array(tracks)\n",
    "track_ids = track_ids.to_numpy()\n",
    "genres = genres.to_numpy()\n",
    "\n",
    "track_genres = [[\"Track ID\", \"Genre\"]]\n",
    "\n",
    "for i, track_id in enumerate(track_ids):\n",
    "    if str(track_id).zfill(6) in tracks:\n",
    "        track_genres.append([track_id, genres[i]])\n",
    "\n",
    "np.savetxt(\"fma_small_genres.csv\", track_genres, delimiter=\",\", fmt=\"%s\")\n",
    "\n",
    "data = np.loadtxt(\"fma_small_genres.csv\", delimiter=\",\", dtype=str, usecols=[0, 2], skiprows=1)\n",
    "\n",
    "for i,x in enumerate(data[:,1]):\n",
    "    data[i, 1] = x.replace(\"'genre_title':\", \"\")\n",
    "\n",
    "data = data[data[:, 0].astype(int).argsort()]\n",
    "\n",
    "for(i, x) in enumerate(data[:,0]):\n",
    "    data[i, 0] = str(x).zfill(6)+\".mp3\"\n",
    "\n",
    "data = np.insert(data, 0, [\"track_id\", \"genre\"], axis=0)\n",
    "\n",
    "with open(\"fma_small_genres.csv\", 'w') as f:\n",
    "    csv.writer(f).writerows(data)"
   ]
  }
 ],
 "metadata": {
  "kernelspec": {
   "display_name": "Python 3 (ipykernel)",
   "language": "python",
   "name": "python3"
  },
  "language_info": {
   "codemirror_mode": {
    "name": "ipython",
    "version": 3
   },
   "file_extension": ".py",
   "mimetype": "text/x-python",
   "name": "python",
   "nbconvert_exporter": "python",
   "pygments_lexer": "ipython3",
   "version": "3.10.13"
  }
 },
 "nbformat": 4,
 "nbformat_minor": 5
}
