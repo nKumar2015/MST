{
 "cells": [
  {
   "cell_type": "code",
   "execution_count": 1,
   "id": "d49adc97",
   "metadata": {},
   "outputs": [],
   "source": [
    "import numpy as np\n",
    "import pandas as pd\n",
    "import os"
   ]
  },
  {
   "cell_type": "code",
   "execution_count": 92,
   "id": "b2dc20c9",
   "metadata": {},
   "outputs": [],
   "source": [
    "metadata = \".data/fma_metadata/tracks.csv\"\n",
    "track_dir = \".data/fma_small/\"\n",
    "\n",
    "df = pd.read_csv(metadata, low_memory=False)\n",
    "\n",
    "track_ids = df[\"Unnamed: 0\"].iloc[2:]\n",
    "genres = df[\"track.7\"].iloc[2:]\n",
    "\n",
    "track_folders = np.array(os.listdir(track_dir))\n",
    "\n",
    "track_folders.sort()\n",
    "track_folders = track_folders[1:-2]\n",
    "\n",
    "tracks = []\n",
    "\n",
    "for folder in track_folders:\n",
    "    tracks.extend(os.listdir(track_dir+folder))\n",
    "    \n",
    "for i, track in enumerate(tracks):\n",
    "    tracks[i] = track[:-4]\n",
    "    \n",
    "tracks = np.array(tracks).astype(int)\n",
    "track_ids = track_ids.to_numpy().astype(int)\n",
    "genres = genres.to_numpy()\n",
    "\n",
    "track_genres = [[\"Track ID\", \"Genre\"]]\n",
    "\n",
    "for i, track_id in enumerate(track_ids):\n",
    "    if track_id in tracks:\n",
    "        track_genres.append([track_id, genres[i]])\n",
    "        \n",
    "        \n",
    "np.savetxt(\"fma_small_genres.csv\", track_genres, delimiter=\",\", fmt=\"%s\")"
   ]
  },
  {
   "cell_type": "code",
   "execution_count": null,
   "id": "2776e15c",
   "metadata": {},
   "outputs": [],
   "source": []
  }
 ],
 "metadata": {
  "kernelspec": {
   "display_name": "Python 3 (ipykernel)",
   "language": "python",
   "name": "python3"
  },
  "language_info": {
   "codemirror_mode": {
    "name": "ipython",
    "version": 3
   },
   "file_extension": ".py",
   "mimetype": "text/x-python",
   "name": "python",
   "nbconvert_exporter": "python",
   "pygments_lexer": "ipython3",
   "version": "3.10.8"
  }
 },
 "nbformat": 4,
 "nbformat_minor": 5
}
